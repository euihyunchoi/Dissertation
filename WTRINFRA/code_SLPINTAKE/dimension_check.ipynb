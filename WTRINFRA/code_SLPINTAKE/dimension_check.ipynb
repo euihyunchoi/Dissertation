{
 "cells": [
  {
   "cell_type": "code",
   "execution_count": 1,
   "id": "7e0191c6",
   "metadata": {},
   "outputs": [
    {
     "ename": "NameError",
     "evalue": "name 'L_blk' is not defined",
     "output_type": "error",
     "traceback": [
      "\u001b[1;31m---------------------------------------------------------------------------\u001b[0m",
      "\u001b[1;31mNameError\u001b[0m                                 Traceback (most recent call last)",
      "Input \u001b[1;32mIn [1]\u001b[0m, in \u001b[0;36m<cell line: 4>\u001b[1;34m()\u001b[0m\n\u001b[0;32m      1\u001b[0m \u001b[38;5;28;01mimport\u001b[39;00m \u001b[38;5;21;01mnumpy\u001b[39;00m \u001b[38;5;28;01mas\u001b[39;00m \u001b[38;5;21;01mnp\u001b[39;00m\n\u001b[0;32m      3\u001b[0m flag \u001b[38;5;241m=\u001b[39m \u001b[38;5;241m0\u001b[39m\n\u001b[1;32m----> 4\u001b[0m \u001b[38;5;28;01mif\u001b[39;00m \u001b[43mL_blk\u001b[49m \u001b[38;5;241m<\u001b[39m L_key:\n\u001b[0;32m      5\u001b[0m     \u001b[38;5;28mprint\u001b[39m(\u001b[38;5;124m\"\u001b[39m\u001b[38;5;124mWarning: Shear key length is greater than the encasement block length, check: L_blk, L_key\u001b[39m\u001b[38;5;124m\"\u001b[39m)\n\u001b[0;32m      6\u001b[0m     flag \u001b[38;5;241m+\u001b[39m\u001b[38;5;241m=\u001b[39m \u001b[38;5;241m1\u001b[39m\n",
      "\u001b[1;31mNameError\u001b[0m: name 'L_blk' is not defined"
     ]
    }
   ],
   "source": [
    "import numpy as np\n",
    "\n",
    "flag = 0\n",
    "if L_blk < L_key:\n",
    "    print(\"Warning: Shear key length is greater than the encasement block length, check: L_blk, L_key\")\n",
    "    flag += 1\n",
    "if h_blk < h_intake:\n",
    "    print(\"Warning: Encasement block height is shorter than the intake height, check: h_blk, h_intake\")\n",
    "    flag += 1\n",
    "if h_blk < h_enc*np.sqrt(1+slope**2):\n",
    "    print(\"Warning: Encasement is shorter than the pipe, check: h_enc, h_blk\")\n",
    "    flag += 1\n",
    "if El_airvent < crd_init[1] + h_blk_v:\n",
    "    print(\"Warning: Elevation of air vent is lower than the air vent block, check: El_airvent, crd_init, h_blk_v\")\n",
    "    flag += 1\n",
    "    \n",
    "    \n",
    "if flag == 0:\n",
    "    print(\"Model dimension is OK\")"
   ]
  },
  {
   "cell_type": "code",
   "execution_count": null,
   "id": "9e5e0882",
   "metadata": {},
   "outputs": [],
   "source": []
  }
 ],
 "metadata": {
  "kernelspec": {
   "display_name": "Python 3 (ipykernel)",
   "language": "python",
   "name": "python3"
  },
  "language_info": {
   "codemirror_mode": {
    "name": "ipython",
    "version": 3
   },
   "file_extension": ".py",
   "mimetype": "text/x-python",
   "name": "python",
   "nbconvert_exporter": "python",
   "pygments_lexer": "ipython3",
   "version": "3.9.12"
  }
 },
 "nbformat": 4,
 "nbformat_minor": 5
}

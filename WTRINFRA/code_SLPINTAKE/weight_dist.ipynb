{
 "cells": [
  {
   "cell_type": "code",
   "execution_count": null,
   "id": "b5b618b3",
   "metadata": {},
   "outputs": [],
   "source": [
    "x = [0, 0, L_blk_v]\n",
    "y = [0, W_blk_v/L_blk_v, W_blk_v/L_blk_v]\n",
    "for i in range(len(El_intake)+1):\n",
    "    if i == 0:\n",
    "        x.append(x[-1])\n",
    "        x.append(x[-1]+L_pip_v/np.sqrt(1+slope**2))\n",
    "        y.append(W_pip_v/L_pip_v*np.sqrt(1+slope**2))\n",
    "        y.append(W_pip_v/L_pip_v*np.sqrt(1+slope**2))\n",
    "    else:\n",
    "        x.append(x[-1])\n",
    "        x.append(x[-1]+L_pip[i-1]/np.sqrt(1+slope**2))\n",
    "        y.append(W_pip[i-1]/L_pip[i-1]*np.sqrt(1+slope**2))\n",
    "        y.append(W_pip[i-1]/L_pip[i-1]*np.sqrt(1+slope**2))\n",
    "    if i == len(El_intake):\n",
    "        x.append(x[-1])\n",
    "        x.append(x[-1]+L_tst)\n",
    "        y.append(W_tst/L_tst)\n",
    "        y.append(W_tst/L_tst)\n",
    "    else:\n",
    "        x.append(x[-1])\n",
    "        x.append(x[-1]+L_blk)\n",
    "        y.append(W_blk/L_blk)\n",
    "        y.append(W_blk/L_blk)\n",
    "x.append(x[-1])\n",
    "y.append(0)\n",
    "plt.plot(x,y,'k')\n",
    "plt.xlabel('Intake longitudinal [ft]')\n",
    "plt.ylabel('Density [kips/ft]')\n",
    "plt.grid()\n",
    "plt.show()"
   ]
  }
 ],
 "metadata": {
  "kernelspec": {
   "display_name": "Python 3 (ipykernel)",
   "language": "python",
   "name": "python3"
  },
  "language_info": {
   "codemirror_mode": {
    "name": "ipython",
    "version": 3
   },
   "file_extension": ".py",
   "mimetype": "text/x-python",
   "name": "python",
   "nbconvert_exporter": "python",
   "pygments_lexer": "ipython3",
   "version": "3.9.12"
  }
 },
 "nbformat": 4,
 "nbformat_minor": 5
}

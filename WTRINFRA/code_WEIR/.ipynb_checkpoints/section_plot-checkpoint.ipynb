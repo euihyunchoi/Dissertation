{
 "cells": [
  {
   "cell_type": "code",
   "execution_count": null,
   "id": "9fcf73be",
   "metadata": {},
   "outputs": [],
   "source": [
    "plt.subplot(1,2,1)\n",
    "\n",
    "path = [[-3*ft,0],[0, hw_b],[-tw_b, 0],[0, -hw_b],[-L_heel, 0],[0, -ts],\n",
    "        [Lk_b, 0],[0, -hk_b],[tk_b, 0],[0, hk_b],[L_heel+tw_b+3*ft-Lk_b-tk_b, 0]]\n",
    "x = [L_heel + tw_b + 3*ft]\n",
    "y = [0]\n",
    "for rel_crd in path:\n",
    "    x.append(x[-1] + rel_crd[0])\n",
    "    y.append(y[-1] + rel_crd[1])\n",
    "plt.plot(x,y, 'k', linewidth=1.3)\n",
    "\n",
    "plt.axis('equal')\n",
    "plt.gcf().set_size_inches(16, 7)\n",
    "plt.grid()\n",
    "\n",
    "plt.subplot(1,2,2)\n",
    "\n",
    "path = [[18*ft, 0], [0, hw], [tw, 0], [0,-(hw+ts+hk)], [-tk, 0], [0, hk], [tk-tw-18*ft, 0]]\n",
    "x = [0]\n",
    "y = [0]\n",
    "for rel_crd in path:\n",
    "    x.append(x[-1] + rel_crd[0])\n",
    "    y.append(y[-1] + rel_crd[1])\n",
    "plt.plot(x,y, 'k', linewidth=1.3)\n",
    "\n",
    "plt.grid()\n",
    "plt.show()"
   ]
  }
 ],
 "metadata": {
  "kernelspec": {
   "display_name": "Python 3 (ipykernel)",
   "language": "python",
   "name": "python3"
  },
  "language_info": {
   "codemirror_mode": {
    "name": "ipython",
    "version": 3
   },
   "file_extension": ".py",
   "mimetype": "text/x-python",
   "name": "python",
   "nbconvert_exporter": "python",
   "pygments_lexer": "ipython3",
   "version": "3.9.12"
  }
 },
 "nbformat": 4,
 "nbformat_minor": 5
}

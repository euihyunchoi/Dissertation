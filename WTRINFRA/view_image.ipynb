{
 "cells": [
  {
   "cell_type": "code",
   "execution_count": 1,
   "id": "c8ddbeec",
   "metadata": {},
   "outputs": [
    {
     "ename": "NameError",
     "evalue": "name 'mpimg' is not defined",
     "output_type": "error",
     "traceback": [
      "\u001b[1;31m---------------------------------------------------------------------------\u001b[0m",
      "\u001b[1;31mNameError\u001b[0m                                 Traceback (most recent call last)",
      "Input \u001b[1;32mIn [1]\u001b[0m, in \u001b[0;36m<cell line: 1>\u001b[1;34m()\u001b[0m\n\u001b[1;32m----> 1\u001b[0m img_ex \u001b[38;5;241m=\u001b[39m \u001b[43mmpimg\u001b[49m\u001b[38;5;241m.\u001b[39mimread(\u001b[38;5;124m\"\u001b[39m\u001b[38;5;124msloping_intake_example.png\u001b[39m\u001b[38;5;124m\"\u001b[39m)\n\u001b[0;32m      3\u001b[0m img_blk \u001b[38;5;241m=\u001b[39m mpimg\u001b[38;5;241m.\u001b[39mimread(\u001b[38;5;124m\"\u001b[39m\u001b[38;5;124mblk_design_var.PNG\u001b[39m\u001b[38;5;124m\"\u001b[39m)\n\u001b[0;32m      4\u001b[0m img_vent \u001b[38;5;241m=\u001b[39m mpimg\u001b[38;5;241m.\u001b[39mimread(\u001b[38;5;124m\"\u001b[39m\u001b[38;5;124mventblk_design_var.PNG\u001b[39m\u001b[38;5;124m\"\u001b[39m)\n",
      "\u001b[1;31mNameError\u001b[0m: name 'mpimg' is not defined"
     ]
    }
   ],
   "source": [
    "img_ex = mpimg.imread(\"figs/sloping_intake_example.png\")\n",
    "\n",
    "img_blk = mpimg.imread(\"figs/blk_design_var.PNG\")\n",
    "img_vent = mpimg.imread(\"figs/ventblk_design_var.PNG\")\n",
    "img_trst = mpimg.imread(\"figs/thrust_design_var.PNG\")\n",
    "img_enc = mpimg.imread(\"figs/encasement_design_var.PNG\")\n",
    "img_overview = mpimg.imread(\"figs/Design_overview.PNG\")\n",
    "\n",
    "if reference_image == 'on':\n",
    "    plt.imshow(img_ex)\n",
    "    plt.axis('off')\n",
    "    plt.gcf().set_size_inches(15,17)\n",
    "    plt.show()\n",
    "\n",
    "if design_variable_image == 'on':\n",
    "    plt.subplot(3,1,1)\n",
    "    plt.imshow(img_overview)\n",
    "    plt.axis('off')\n",
    "\n",
    "    plt.subplot(3,3,4)\n",
    "    plt.imshow(img_vent)\n",
    "    plt.axis('off')\n",
    "    plt.subplot(3,3,5)\n",
    "    plt.imshow(img_blk)\n",
    "    plt.axis('off')\n",
    "    plt.subplot(3,3,6)\n",
    "    plt.imshow(img_trst)\n",
    "    plt.axis('off')\n",
    "\n",
    "    plt.subplot(3,1,3)\n",
    "    plt.imshow(img_enc)\n",
    "    plt.axis('off')\n",
    "\n",
    "    plt.gcf().set_size_inches(15,17)\n",
    "    plt.show()"
   ]
  },
  {
   "cell_type": "code",
   "execution_count": null,
   "id": "405e2625",
   "metadata": {},
   "outputs": [],
   "source": []
  }
 ],
 "metadata": {
  "kernelspec": {
   "display_name": "Python 3 (ipykernel)",
   "language": "python",
   "name": "python3"
  },
  "language_info": {
   "codemirror_mode": {
    "name": "ipython",
    "version": 3
   },
   "file_extension": ".py",
   "mimetype": "text/x-python",
   "name": "python",
   "nbconvert_exporter": "python",
   "pygments_lexer": "ipython3",
   "version": "3.9.12"
  }
 },
 "nbformat": 4,
 "nbformat_minor": 5
}
